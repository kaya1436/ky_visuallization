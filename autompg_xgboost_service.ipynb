{
  "nbformat": 4,
  "nbformat_minor": 0,
  "metadata": {
    "colab": {
      "name": "autompg_xgboost_service.ipynb",
      "provenance": [],
      "authorship_tag": "ABX9TyMp2aMM07DVy2eC+OUDYhxk"
    },
    "kernelspec": {
      "name": "python3",
      "display_name": "Python 3"
    },
    "language_info": {
      "name": "python"
    }
  },
  "cells": [
    {
      "cell_type": "code",
      "metadata": {
        "id": "7f6GhwSumEq9",
        "colab": {
          "base_uri": "https://localhost:8080/"
        },
        "outputId": "3fd17eec-6759-4571-f4fa-a5579bbecc06"
      },
      "source": [
        "import pickle\n",
        "model = pickle.load(open('./xgb_model.pkl', 'rb'))\n",
        "type(model)"
      ],
      "execution_count": 10,
      "outputs": [
        {
          "output_type": "stream",
          "text": [
            "[08:53:47] WARNING: /workspace/src/objective/regression_obj.cu:152: reg:linear is now deprecated in favor of reg:squarederror.\n"
          ],
          "name": "stdout"
        },
        {
          "output_type": "execute_result",
          "data": {
            "text/plain": [
              "xgboost.sklearn.XGBRegressor"
            ]
          },
          "metadata": {
            "tags": []
          },
          "execution_count": 10
        }
      ]
    },
    {
      "cell_type": "code",
      "metadata": {
        "colab": {
          "base_uri": "https://localhost:8080/"
        },
        "id": "u3YO18DjnTcT",
        "outputId": "101b2b39-4c24-4f22-9a45-195d09e60c20"
      },
      "source": [
        "scaler = pickle.load(open('./scaler_xgb.pkl', 'rb'))\n",
        "type(scaler)"
      ],
      "execution_count": 11,
      "outputs": [
        {
          "output_type": "execute_result",
          "data": {
            "text/plain": [
              "sklearn.preprocessing._data.StandardScaler"
            ]
          },
          "metadata": {
            "tags": []
          },
          "execution_count": 11
        }
      ]
    },
    {
      "cell_type": "markdown",
      "metadata": {
        "id": "PMrujUPr_61w"
      },
      "source": [
        "## predict"
      ]
    },
    {
      "cell_type": "code",
      "metadata": {
        "colab": {
          "base_uri": "https://localhost:8080/",
          "height": 133
        },
        "id": "5A1aikFM_-cU",
        "outputId": "de0e1bc5-2cb2-44df-806d-59e8cf4fd883"
      },
      "source": [
        "displacement = 307.0\n",
        "horsepower = 130.0\n",
        "weight = 3504.0\n",
        "accel = 12.0\n",
        "cylinders = 8\n",
        "origin = 1\n",
        "\n",
        "if cylinders == 3:\n",
        "  cylinder = [1,0,0,0,0]\n",
        "elif cylinders == 4:\n",
        "  cylinder = [0,1,0,0,0]\n",
        "elif cylinders == 5:\n",
        "  cylinder = [0,0,1,0,0]\n",
        "elif cylinders == 6:\n",
        "  cylinder = [0,0,0,1,0]\n",
        "else cylinders == 8:\n",
        "  cylinder = [0,0,0,0,1]\n",
        "\n",
        "if origin == 1:\n",
        "  org = [1,0,0]\n",
        "elif origin == 2:\n",
        "  org = [0,1,0]\n",
        "else origin == 3:\n",
        "  org = [0,0,1]\n",
        "\n",
        "\n",
        "x_custmer = [[displacement, horsepower, weight, accel, cylinder, org]]"
      ],
      "execution_count": 12,
      "outputs": [
        {
          "output_type": "error",
          "ename": "SyntaxError",
          "evalue": "ignored",
          "traceback": [
            "\u001b[0;36m  File \u001b[0;32m\"<ipython-input-12-34be011eb9fd>\"\u001b[0;36m, line \u001b[0;32m16\u001b[0m\n\u001b[0;31m    else cylinders == 8:\u001b[0m\n\u001b[0m                 ^\u001b[0m\n\u001b[0;31mSyntaxError\u001b[0m\u001b[0;31m:\u001b[0m invalid syntax\n"
          ]
        }
      ]
    },
    {
      "cell_type": "code",
      "metadata": {
        "colab": {
          "base_uri": "https://localhost:8080/"
        },
        "id": "uQ_Wa2BhCAPI",
        "outputId": "b2dddd83-6ecf-47b4-c8c3-165c689b1bf8"
      },
      "source": [
        "x_custmer = scaler.transform([[307.0, 130.0, 3504.0, 12.0, 0,0,0,0,1, 1,0,0]])\n",
        "x_custmer.shape"
      ],
      "execution_count": 14,
      "outputs": [
        {
          "output_type": "execute_result",
          "data": {
            "text/plain": [
              "(1, 12)"
            ]
          },
          "metadata": {
            "tags": []
          },
          "execution_count": 14
        }
      ]
    },
    {
      "cell_type": "code",
      "metadata": {
        "colab": {
          "base_uri": "https://localhost:8080/"
        },
        "id": "VFRNVLsvBV6K",
        "outputId": "bc607c89-b247-4a16-995c-9bd5473f4ae1"
      },
      "source": [
        "y_pred = model.predict(x_custmer)\n",
        "y_pred[0]"
      ],
      "execution_count": 15,
      "outputs": [
        {
          "output_type": "execute_result",
          "data": {
            "text/plain": [
              "15.500825"
            ]
          },
          "metadata": {
            "tags": []
          },
          "execution_count": 15
        }
      ]
    },
    {
      "cell_type": "code",
      "metadata": {
        "id": "eGQSB1tRCm8t"
      },
      "source": [
        ""
      ],
      "execution_count": null,
      "outputs": []
    }
  ]
}